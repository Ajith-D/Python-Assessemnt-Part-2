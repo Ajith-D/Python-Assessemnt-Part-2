{
 "cells": [
  {
   "cell_type": "code",
   "execution_count": 25,
   "id": "62881fa6",
   "metadata": {},
   "outputs": [],
   "source": [
    "class Standard_Course:\n",
    "    Message = 'Welcome to Atomz Research'\n",
    "    \n",
    "    def __init__(self):\n",
    "        self.courseName = 'Python for Everyone'\n",
    "        self.students = []\n",
    "        self.syllabus = ['Python', 'Numpy', 'Pandas']\n",
    "        self.fee = 6000\n",
    "        self.Duration = '2 Months'\n",
    "        \n",
    "        print(f'{self.Message}\\nWelcome to Standard Course - {self.courseName}')\n",
    "        \n",
    "    def add_user(self, name):\n",
    "        self.students.append(name)\n",
    "        self.name = name\n",
    "        print(f'''\n",
    "        Hello {name},\n",
    "        {self.Message}\n",
    "        You have Joined {self.courseName}''')\n",
    "        \n",
    "    def del_User(self, name):\n",
    "        self.students.remove(name)\n",
    "        print(f'{name} You have removed from the class')\n",
    "        \n",
    "    def Course_Details(self):\n",
    "            \n",
    "        print(f'''\n",
    "        Hello {self.name},\n",
    "        Your Course Details are\n",
    "        Course : {self.courseName}\n",
    "        Syllabus : {self.syllabus}\n",
    "        Fee : {self.fee} INR\n",
    "        Duration : {self.Duration}''')\n"
   ]
  },
  {
   "cell_type": "code",
   "execution_count": 26,
   "id": "1b1079d3",
   "metadata": {},
   "outputs": [],
   "source": [
    "class Premium_Course:\n",
    "    Message = 'Welcome to Atomz Research'\n",
    "    \n",
    "    def __init__(self):\n",
    "        self.courseName = 'Python for Data Science'\n",
    "        self.students = []\n",
    "        self.syllabus = ['Python', 'Numpy', 'ML']\n",
    "        self.fee = 8000\n",
    "        self.Duration = '3 Months'\n",
    "        \n",
    "        print(f'{self.Message}\\nWelcome to Standard Course - {self.courseName}')\n",
    "        \n",
    "    def add_user(self, name):\n",
    "        self.students.append(name)\n",
    "        self.name = name\n",
    "        print(f'''\n",
    "        Hello {name},\n",
    "        {self.Message}\n",
    "        You have Joined {self.courseName}''')\n",
    "        \n",
    "    def del_User(self, name):\n",
    "        self.students.remove(name)\n",
    "        print(f'{name} You have removed from the class')\n",
    "        \n",
    "    def Course_Details(self):\n",
    "            \n",
    "        print(f'''\n",
    "        Hello {self.name},\n",
    "        Your Course Details are\n",
    "        Course : {self.courseName}\n",
    "        Syllabus : {self.syllabus}\n",
    "        Fee : {self.fee} INR\n",
    "        Duration : {self.Duration}''')\n"
   ]
  },
  {
   "cell_type": "code",
   "execution_count": 27,
   "id": "09236565",
   "metadata": {},
   "outputs": [
    {
     "name": "stdout",
     "output_type": "stream",
     "text": [
      "Welcome to Atomz Research\n",
      "Welcome to Standard Course - Python for Everyone\n"
     ]
    }
   ],
   "source": [
    "Everyone = Standard_Course()"
   ]
  },
  {
   "cell_type": "code",
   "execution_count": 28,
   "id": "fb14f6b6",
   "metadata": {},
   "outputs": [
    {
     "name": "stdout",
     "output_type": "stream",
     "text": [
      "\n",
      "        Hello Ajith,\n",
      "        Welcome to Atomz Research\n",
      "        You have Joined Python for Everyone\n"
     ]
    }
   ],
   "source": [
    "Everyone.add_user('Ajith')"
   ]
  },
  {
   "cell_type": "code",
   "execution_count": 33,
   "id": "2fd5ec1f",
   "metadata": {},
   "outputs": [
    {
     "name": "stdout",
     "output_type": "stream",
     "text": [
      "\n",
      "        Hello Parbhu,\n",
      "        Welcome to Atomz Research\n",
      "        You have Joined Python for Everyone\n"
     ]
    }
   ],
   "source": [
    "Everyone.add_user('Parbhu')"
   ]
  },
  {
   "cell_type": "code",
   "execution_count": 35,
   "id": "3469fdf4",
   "metadata": {},
   "outputs": [
    {
     "data": {
      "text/plain": [
       "['Ajith', 'Parbhu']"
      ]
     },
     "execution_count": 35,
     "metadata": {},
     "output_type": "execute_result"
    }
   ],
   "source": [
    "Everyone.students"
   ]
  },
  {
   "cell_type": "code",
   "execution_count": 29,
   "id": "68f95b4c",
   "metadata": {},
   "outputs": [
    {
     "name": "stdout",
     "output_type": "stream",
     "text": [
      "\n",
      "        Hello Ajith,\n",
      "        Your Course Details are\n",
      "        Course : Python for Everyone\n",
      "        Syllabus : ['Python', 'Numpy', 'Pandas']\n",
      "        Fee : 6000 INR\n",
      "        Duration : 2 Months\n"
     ]
    }
   ],
   "source": [
    "Everyone.Course_Details()"
   ]
  },
  {
   "cell_type": "code",
   "execution_count": 30,
   "id": "9c8c0a5f",
   "metadata": {},
   "outputs": [
    {
     "name": "stdout",
     "output_type": "stream",
     "text": [
      "Welcome to Atomz Research\n",
      "Welcome to Standard Course - Python for Data Science\n"
     ]
    }
   ],
   "source": [
    "Data = Premium_Course()"
   ]
  },
  {
   "cell_type": "code",
   "execution_count": 31,
   "id": "2e969315",
   "metadata": {},
   "outputs": [
    {
     "name": "stdout",
     "output_type": "stream",
     "text": [
      "\n",
      "        Hello Bahart,\n",
      "        Welcome to Atomz Research\n",
      "        You have Joined Python for Data Science\n"
     ]
    }
   ],
   "source": [
    "Data.add_user('Bahart')"
   ]
  },
  {
   "cell_type": "code",
   "execution_count": 36,
   "id": "c8578cb3",
   "metadata": {},
   "outputs": [
    {
     "name": "stdout",
     "output_type": "stream",
     "text": [
      "\n",
      "        Hello Prem,\n",
      "        Welcome to Atomz Research\n",
      "        You have Joined Python for Data Science\n"
     ]
    }
   ],
   "source": [
    "Data.add_user('Prem')"
   ]
  },
  {
   "cell_type": "code",
   "execution_count": 37,
   "id": "57d98909",
   "metadata": {},
   "outputs": [
    {
     "data": {
      "text/plain": [
       "['Bahart', 'Prem']"
      ]
     },
     "execution_count": 37,
     "metadata": {},
     "output_type": "execute_result"
    }
   ],
   "source": [
    "Data.students"
   ]
  },
  {
   "cell_type": "code",
   "execution_count": 32,
   "id": "57e5aca4",
   "metadata": {},
   "outputs": [
    {
     "name": "stdout",
     "output_type": "stream",
     "text": [
      "\n",
      "        Hello Bahart,\n",
      "        Your Course Details are\n",
      "        Course : Python for Data Science\n",
      "        Syllabus : ['Python', 'Numpy', 'ML']\n",
      "        Fee : 8000 INR\n",
      "        Duration : 3 Months\n"
     ]
    }
   ],
   "source": [
    "Data.Course_Details()"
   ]
  },
  {
   "cell_type": "code",
   "execution_count": null,
   "id": "204c0ee7",
   "metadata": {},
   "outputs": [],
   "source": []
  },
  {
   "cell_type": "code",
   "execution_count": null,
   "id": "0d8204da",
   "metadata": {},
   "outputs": [],
   "source": []
  }
 ],
 "metadata": {
  "kernelspec": {
   "display_name": "Python 3 (ipykernel)",
   "language": "python",
   "name": "python3"
  },
  "language_info": {
   "codemirror_mode": {
    "name": "ipython",
    "version": 3
   },
   "file_extension": ".py",
   "mimetype": "text/x-python",
   "name": "python",
   "nbconvert_exporter": "python",
   "pygments_lexer": "ipython3",
   "version": "3.10.9"
  }
 },
 "nbformat": 4,
 "nbformat_minor": 5
}
