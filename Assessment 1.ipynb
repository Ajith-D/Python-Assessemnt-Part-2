{
 "cells": [
  {
   "cell_type": "markdown",
   "id": "8f7f2f8f",
   "metadata": {},
   "source": [
    "## 1"
   ]
  },
  {
   "cell_type": "code",
   "execution_count": null,
   "id": "674beb41",
   "metadata": {},
   "outputs": [],
   "source": [
    "file = open('Text_1', 'x')"
   ]
  },
  {
   "cell_type": "code",
   "execution_count": null,
   "id": "c8ca82db",
   "metadata": {},
   "outputs": [],
   "source": [
    "file.close()"
   ]
  },
  {
   "cell_type": "code",
   "execution_count": null,
   "id": "f88b84f3",
   "metadata": {},
   "outputs": [],
   "source": [
    "file = open('Text_2', 'x')"
   ]
  },
  {
   "cell_type": "code",
   "execution_count": null,
   "id": "c6c5112a",
   "metadata": {},
   "outputs": [],
   "source": [
    "file.close()"
   ]
  },
  {
   "cell_type": "code",
   "execution_count": null,
   "id": "60bd2c6b",
   "metadata": {},
   "outputs": [],
   "source": [
    "file = open('Text_3', 'x')\n",
    "file.close()"
   ]
  },
  {
   "cell_type": "code",
   "execution_count": null,
   "id": "972a4739",
   "metadata": {},
   "outputs": [],
   "source": [
    "file = open('Text_4', 'x')\n",
    "file.close()"
   ]
  },
  {
   "cell_type": "markdown",
   "id": "3a8cd5ca",
   "metadata": {},
   "source": [
    "## 2"
   ]
  },
  {
   "cell_type": "code",
   "execution_count": 1,
   "id": "55a4cf90",
   "metadata": {},
   "outputs": [],
   "source": [
    "import os"
   ]
  },
  {
   "cell_type": "code",
   "execution_count": 2,
   "id": "47f1b014",
   "metadata": {},
   "outputs": [
    {
     "name": "stdout",
     "output_type": "stream",
     "text": [
      "File is Already Exists\n"
     ]
    }
   ],
   "source": [
    "try:\n",
    "    file = open('Text_1', 'x')\n",
    "    file.close()\n",
    "    print('File Opened successfully')\n",
    "    \n",
    "except FileExistsError:\n",
    "    print ('File is Already Exists')\n",
    "    "
   ]
  },
  {
   "cell_type": "markdown",
   "id": "e2594b1f",
   "metadata": {},
   "source": [
    "## 3"
   ]
  },
  {
   "cell_type": "code",
   "execution_count": 3,
   "id": "1b441812",
   "metadata": {},
   "outputs": [
    {
     "data": {
      "text/plain": [
       "'This is Text 1 in Assessement Part 2'"
      ]
     },
     "execution_count": 3,
     "metadata": {},
     "output_type": "execute_result"
    }
   ],
   "source": [
    "file = open('Text_1', 'r')\n",
    "file.read()"
   ]
  },
  {
   "cell_type": "code",
   "execution_count": 4,
   "id": "c6a78495",
   "metadata": {},
   "outputs": [
    {
     "data": {
      "text/plain": [
       "'This is Text 2 in Assessement Part 2'"
      ]
     },
     "execution_count": 4,
     "metadata": {},
     "output_type": "execute_result"
    }
   ],
   "source": [
    "file = open('Text_2', 'r')\n",
    "file.read()"
   ]
  },
  {
   "cell_type": "code",
   "execution_count": 5,
   "id": "8aa07c42",
   "metadata": {},
   "outputs": [
    {
     "data": {
      "text/plain": [
       "'This is Text 3 in Assessement Part 2'"
      ]
     },
     "execution_count": 5,
     "metadata": {},
     "output_type": "execute_result"
    }
   ],
   "source": [
    "file = open('Text_3', 'r')\n",
    "file.read()"
   ]
  },
  {
   "cell_type": "markdown",
   "id": "bae0e91c",
   "metadata": {},
   "source": [
    "## 4"
   ]
  },
  {
   "cell_type": "code",
   "execution_count": null,
   "id": "a34dc193",
   "metadata": {},
   "outputs": [],
   "source": [
    "os.remove('Text_4')"
   ]
  }
 ],
 "metadata": {
  "kernelspec": {
   "display_name": "Python 3 (ipykernel)",
   "language": "python",
   "name": "python3"
  },
  "language_info": {
   "codemirror_mode": {
    "name": "ipython",
    "version": 3
   },
   "file_extension": ".py",
   "mimetype": "text/x-python",
   "name": "python",
   "nbconvert_exporter": "python",
   "pygments_lexer": "ipython3",
   "version": "3.10.9"
  }
 },
 "nbformat": 4,
 "nbformat_minor": 5
}
