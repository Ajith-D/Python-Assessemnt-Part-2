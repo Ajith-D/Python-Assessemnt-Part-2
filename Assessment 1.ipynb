{
 "cells": [
  {
   "cell_type": "code",
   "execution_count": 2,
   "id": "75487560",
   "metadata": {},
   "outputs": [],
   "source": [
    "files = []"
   ]
  },
  {
   "cell_type": "code",
   "execution_count": 4,
   "id": "4158d9d8",
   "metadata": {},
   "outputs": [
    {
     "name": "stdout",
     "output_type": "stream",
     "text": [
      "Enter The FileName: Ajith\n",
      "Enter the Number of Files: 4\n",
      "Enter the File Format: PDF\n"
     ]
    }
   ],
   "source": [
    "FileName = input('Enter The FileName: ')\n",
    "qty = int(input('Enter the Number of Files: '))\n",
    "Format = input('Enter the File Format: ')"
   ]
  },
  {
   "cell_type": "code",
   "execution_count": 5,
   "id": "a167ba6c",
   "metadata": {},
   "outputs": [
    {
     "name": "stdout",
     "output_type": "stream",
     "text": [
      "Files are Created: \n",
      "Files are Created: \n",
      "Files are Created: \n"
     ]
    }
   ],
   "source": [
    "qty = range(1, 4)\n",
    "for char in qty:\n",
    "    file = (f'{FileName}{char}.{Format}')\n",
    "    files.append(file)\n",
    "    file1 = open(file, 'x')\n",
    "    file1.close()\n",
    "    print('Files are Created: ')\n",
    "    "
   ]
  },
  {
   "cell_type": "code",
   "execution_count": 6,
   "id": "c0807c85",
   "metadata": {},
   "outputs": [
    {
     "data": {
      "text/plain": [
       "['Ajith1.PDF', 'Ajith2.PDF', 'Ajith3.PDF']"
      ]
     },
     "execution_count": 6,
     "metadata": {},
     "output_type": "execute_result"
    }
   ],
   "source": [
    "files"
   ]
  },
  {
   "cell_type": "code",
   "execution_count": 19,
   "id": "d7ccc372",
   "metadata": {},
   "outputs": [],
   "source": [
    "import os"
   ]
  },
  {
   "cell_type": "code",
   "execution_count": 20,
   "id": "ca8ce118",
   "metadata": {},
   "outputs": [
    {
     "name": "stdout",
     "output_type": "stream",
     "text": [
      "File Exist\n"
     ]
    }
   ],
   "source": [
    "if os.path.exists('Ajith1.PDF'):\n",
    "    print('File Exist')\n",
    "else:\n",
    "    print('File does not exist')"
   ]
  },
  {
   "cell_type": "code",
   "execution_count": 21,
   "id": "abb0c42c",
   "metadata": {},
   "outputs": [
    {
     "name": "stdout",
     "output_type": "stream",
     "text": [
      "Files are Deleted\n",
      "Files are Deleted\n",
      "Files are Deleted\n"
     ]
    }
   ],
   "source": [
    "for file in files:\n",
    "    os.remove(file)\n",
    "    print('Files are Deleted')"
   ]
  },
  {
   "cell_type": "code",
   "execution_count": null,
   "id": "0aa0b351",
   "metadata": {},
   "outputs": [],
   "source": []
  }
 ],
 "metadata": {
  "kernelspec": {
   "display_name": "Python 3 (ipykernel)",
   "language": "python",
   "name": "python3"
  },
  "language_info": {
   "codemirror_mode": {
    "name": "ipython",
    "version": 3
   },
   "file_extension": ".py",
   "mimetype": "text/x-python",
   "name": "python",
   "nbconvert_exporter": "python",
   "pygments_lexer": "ipython3",
   "version": "3.10.9"
  }
 },
 "nbformat": 4,
 "nbformat_minor": 5
}
