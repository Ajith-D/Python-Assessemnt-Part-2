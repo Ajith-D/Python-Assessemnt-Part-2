{
 "cells": [
  {
   "cell_type": "code",
   "execution_count": 19,
   "id": "23cec976",
   "metadata": {},
   "outputs": [],
   "source": [
    "def vitaminA():\n",
    "    A = 'Vitamin A is important for normal vision, the immune system, reproduction, and growth and development'\n",
    "    \n",
    "    return A\n",
    "     "
   ]
  },
  {
   "cell_type": "code",
   "execution_count": 23,
   "id": "55fe6fd2",
   "metadata": {},
   "outputs": [],
   "source": [
    "def vitaminB():\n",
    "    B = \"Vitamin B is a group of vitamins that help your body's metabolism function better.\"\n",
    "    return B"
   ]
  },
  {
   "cell_type": "code",
   "execution_count": 38,
   "id": "23f2712c",
   "metadata": {},
   "outputs": [],
   "source": [
    "def vitaminC():\n",
    "    C = \"Vitamin C is a water-soluble vitamin found in citrus and other fruits and vegetables, also sold as a dietary supplement and as a topical 'serum' ingredient to treat melasma and wrinkles on the face.\"\n",
    "    return C\n",
    "    "
   ]
  },
  {
   "cell_type": "code",
   "execution_count": 39,
   "id": "d5cf8172",
   "metadata": {},
   "outputs": [],
   "source": [
    "def vitaminD():\n",
    "    D = \"Vitamin D is a group of fat-soluble secosteroids responsible for increasing intestinal absorption of calcium, magnesium, and phosphate, and many other biological effects.\"\n",
    "    return D"
   ]
  },
  {
   "cell_type": "code",
   "execution_count": 44,
   "id": "144461f1",
   "metadata": {},
   "outputs": [],
   "source": [
    "def vitaminE():\n",
    "    E = \"Vitamin E is a group of eight fat soluble compounds that include four tocopherols and four tocotrienols.\"\n",
    "    return E"
   ]
  },
  {
   "cell_type": "code",
   "execution_count": 46,
   "id": "11b0f03f",
   "metadata": {},
   "outputs": [],
   "source": [
    "def vitaminK():\n",
    "    K =\"Vitamin K is a family of structurally similar, fat-soluble vitamers found in foods and marketed as dietary supplements.\"\n",
    "    return K"
   ]
  },
  {
   "cell_type": "code",
   "execution_count": null,
   "id": "0ec64bd6",
   "metadata": {},
   "outputs": [],
   "source": []
  }
 ],
 "metadata": {
  "kernelspec": {
   "display_name": "Python 3 (ipykernel)",
   "language": "python",
   "name": "python3"
  },
  "language_info": {
   "codemirror_mode": {
    "name": "ipython",
    "version": 3
   },
   "file_extension": ".py",
   "mimetype": "text/x-python",
   "name": "python",
   "nbconvert_exporter": "python",
   "pygments_lexer": "ipython3",
   "version": "3.10.9"
  }
 },
 "nbformat": 4,
 "nbformat_minor": 5
}
