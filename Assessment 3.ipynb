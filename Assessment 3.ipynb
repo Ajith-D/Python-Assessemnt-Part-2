{
 "cells": [
  {
   "cell_type": "code",
   "execution_count": 19,
   "id": "ada619f5",
   "metadata": {},
   "outputs": [],
   "source": [
    "class task_manager():\n",
    "    welcome = 'Welcome to Task Manager'\n",
    "    \n",
    "    def __init__(self, name):\n",
    "        self.Bussiness_task = []\n",
    "        self.Entertainment_task = []\n",
    "        self.Family_task = []\n",
    "        self.pending = []\n",
    "        self.name = name\n",
    "        \n",
    "        print(f'{self.welcome}')\n",
    "        \n",
    "    def business(self, category):\n",
    "        self.Bussiness_task.append(category)\n",
    "        self.pending.append(self.Bussiness_task)\n",
    "        \n",
    "        print(f'''\n",
    "        Hello {self.name}\n",
    "        Your Business Task are: {category}''')\n",
    "        \n",
    "    def entertainment(self, category):\n",
    "        self.Entertainment_task.append(category)\n",
    "        self.pending.append(self.Entertainment_task)\n",
    "        \n",
    "        print(f'''\n",
    "        Hello {self.name}\n",
    "        Your Entertainment Task are: {category}''')\n",
    "        \n",
    "    def family(self, category):\n",
    "        self.Family_task.append(category)\n",
    "        self.pending.append(self.Family_task)\n",
    "        \n",
    "        print(f'''\n",
    "        Hello {self.name}\n",
    "        Your Family Task are: {category}''')\n",
    "        \n",
    "    def Pending_task(self):\n",
    "        print(f'{self.welcome}')\n",
    "        print('=======================')\n",
    "        print(f'Hello {self.name}\\nYour Pending Tasks are:\\n')\n",
    "        \n",
    "        print('Business Task:')\n",
    "        for char in self.Bussiness_task:\n",
    "            print(f'  {char}\\n')\n",
    "            \n",
    "        print('Entertainment Task:')   \n",
    "        for item in self.Entertainment_task:\n",
    "            print(f'  {item}\\n')\n",
    "            \n",
    "        print('Family Task:')\n",
    "        for file in self.Family_task:\n",
    "            print(f'  {file}\\n')\n",
    "\n",
    "       "
   ]
  },
  {
   "cell_type": "code",
   "execution_count": 20,
   "id": "ce32f829",
   "metadata": {},
   "outputs": [
    {
     "name": "stdout",
     "output_type": "stream",
     "text": [
      "Welcome to Task Manager\n"
     ]
    }
   ],
   "source": [
    "Ajith = task_manager('Ajith')"
   ]
  },
  {
   "cell_type": "code",
   "execution_count": 28,
   "id": "0d1f23a5",
   "metadata": {},
   "outputs": [
    {
     "name": "stdout",
     "output_type": "stream",
     "text": [
      "\n",
      "        Hello Ajith\n",
      "        Your Business Task are: Meeting With HR | 13-04-23\n"
     ]
    }
   ],
   "source": [
    "Ajith.business('Meeting With HR | 13-04-23')"
   ]
  },
  {
   "cell_type": "code",
   "execution_count": 29,
   "id": "872132fd",
   "metadata": {},
   "outputs": [
    {
     "name": "stdout",
     "output_type": "stream",
     "text": [
      "\n",
      "        Hello Ajith\n",
      "        Your Entertainment Task are: Play Shuttle at Stadium | 6.00 PM\n"
     ]
    }
   ],
   "source": [
    "Ajith.entertainment('Play Shuttle at Stadium | 6.00 PM')"
   ]
  },
  {
   "cell_type": "code",
   "execution_count": 32,
   "id": "fcb1e5f7",
   "metadata": {},
   "outputs": [
    {
     "name": "stdout",
     "output_type": "stream",
     "text": [
      "\n",
      "        Hello Ajith\n",
      "        Your Family Task are: Spend Time with Family | 11-04-2023\n"
     ]
    }
   ],
   "source": [
    "Ajith.family('Spend Time with Family | 11-04-2023')"
   ]
  },
  {
   "cell_type": "code",
   "execution_count": 33,
   "id": "c194af61",
   "metadata": {},
   "outputs": [
    {
     "data": {
      "text/plain": [
       "['Team Conference | 12-04-23', 'Meeting With HR | 13-04-23']"
      ]
     },
     "execution_count": 33,
     "metadata": {},
     "output_type": "execute_result"
    }
   ],
   "source": [
    "Ajith.Bussiness_task"
   ]
  },
  {
   "cell_type": "code",
   "execution_count": 34,
   "id": "0e4418cd",
   "metadata": {},
   "outputs": [
    {
     "data": {
      "text/plain": [
       "['Friends Out | 6.00 PM', 'Play Shuttle at Stadium | 6.00 PM']"
      ]
     },
     "execution_count": 34,
     "metadata": {},
     "output_type": "execute_result"
    }
   ],
   "source": [
    "Ajith.Entertainment_task"
   ]
  },
  {
   "cell_type": "code",
   "execution_count": 35,
   "id": "f41e70de",
   "metadata": {},
   "outputs": [
    {
     "data": {
      "text/plain": [
       "['Garden Visit | 11-04-2023', 'Spend Time with Family | 11-04-2023']"
      ]
     },
     "execution_count": 35,
     "metadata": {},
     "output_type": "execute_result"
    }
   ],
   "source": [
    "Ajith.Family_task"
   ]
  },
  {
   "cell_type": "code",
   "execution_count": 36,
   "id": "76aaa3fa",
   "metadata": {},
   "outputs": [
    {
     "name": "stdout",
     "output_type": "stream",
     "text": [
      "Welcome to Task Manager\n",
      "=======================\n",
      "Hello Ajith\n",
      "Your Pending Tasks are:\n",
      "\n",
      "Business Task:\n",
      "  Team Conference | 12-04-23\n",
      "\n",
      "  Meeting With HR | 13-04-23\n",
      "\n",
      "Entertainment Task:\n",
      "  Friends Out | 6.00 PM\n",
      "\n",
      "  Play Shuttle at Stadium | 6.00 PM\n",
      "\n",
      "Family Task:\n",
      "  Garden Visit | 11-04-2023\n",
      "\n",
      "  Spend Time with Family | 11-04-2023\n",
      "\n"
     ]
    }
   ],
   "source": [
    "Ajith.Pending_task()"
   ]
  },
  {
   "cell_type": "code",
   "execution_count": null,
   "id": "04cfe53a",
   "metadata": {},
   "outputs": [],
   "source": []
  }
 ],
 "metadata": {
  "kernelspec": {
   "display_name": "Python 3 (ipykernel)",
   "language": "python",
   "name": "python3"
  },
  "language_info": {
   "codemirror_mode": {
    "name": "ipython",
    "version": 3
   },
   "file_extension": ".py",
   "mimetype": "text/x-python",
   "name": "python",
   "nbconvert_exporter": "python",
   "pygments_lexer": "ipython3",
   "version": "3.10.9"
  }
 },
 "nbformat": 4,
 "nbformat_minor": 5
}
