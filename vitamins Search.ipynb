{
 "cells": [
  {
   "cell_type": "code",
   "execution_count": 1,
   "id": "fc5c622f",
   "metadata": {},
   "outputs": [],
   "source": [
    "import sys"
   ]
  },
  {
   "cell_type": "code",
   "execution_count": 2,
   "id": "ac41b66d",
   "metadata": {},
   "outputs": [
    {
     "data": {
      "text/plain": [
       "['C:\\\\Users\\\\User\\\\Documents\\\\GitHub\\\\Assessment Part 2',\n",
       " 'C:\\\\Users\\\\User\\\\anaconda3\\\\envs\\\\notebook\\\\python310.zip',\n",
       " 'C:\\\\Users\\\\User\\\\anaconda3\\\\envs\\\\notebook\\\\DLLs',\n",
       " 'C:\\\\Users\\\\User\\\\anaconda3\\\\envs\\\\notebook\\\\lib',\n",
       " 'C:\\\\Users\\\\User\\\\anaconda3\\\\envs\\\\notebook',\n",
       " '',\n",
       " 'C:\\\\Users\\\\User\\\\anaconda3\\\\envs\\\\notebook\\\\lib\\\\site-packages',\n",
       " 'C:\\\\Users\\\\User\\\\Documents\\\\GitHub\\\\Python-learning-',\n",
       " 'C:\\\\Users\\\\User\\\\anaconda3\\\\envs\\\\notebook\\\\lib\\\\site-packages\\\\win32',\n",
       " 'C:\\\\Users\\\\User\\\\anaconda3\\\\envs\\\\notebook\\\\lib\\\\site-packages\\\\win32\\\\lib',\n",
       " 'C:\\\\Users\\\\User\\\\anaconda3\\\\envs\\\\notebook\\\\lib\\\\site-packages\\\\Pythonwin']"
      ]
     },
     "execution_count": 2,
     "metadata": {},
     "output_type": "execute_result"
    }
   ],
   "source": [
    "sys.path"
   ]
  },
  {
   "cell_type": "code",
   "execution_count": 4,
   "id": "2cc93079",
   "metadata": {},
   "outputs": [],
   "source": [
    "import Vitamins"
   ]
  },
  {
   "cell_type": "code",
   "execution_count": 5,
   "id": "0d412376",
   "metadata": {},
   "outputs": [
    {
     "data": {
      "text/plain": [
       "'Vitamin A is important for normal vision, the immune system, reproduction, and growth and development'"
      ]
     },
     "execution_count": 5,
     "metadata": {},
     "output_type": "execute_result"
    }
   ],
   "source": [
    "Vitamins.vitaminA()"
   ]
  },
  {
   "cell_type": "code",
   "execution_count": 6,
   "id": "dd33d38e",
   "metadata": {},
   "outputs": [
    {
     "data": {
      "text/plain": [
       "\"Vitamin B is a group of vitamins that help your body's metabolism function better.\""
      ]
     },
     "execution_count": 6,
     "metadata": {},
     "output_type": "execute_result"
    }
   ],
   "source": [
    "Vitamins.vitaminB()"
   ]
  },
  {
   "cell_type": "code",
   "execution_count": 7,
   "id": "7fdd3273",
   "metadata": {},
   "outputs": [
    {
     "data": {
      "text/plain": [
       "\"Vitamin C is a water-soluble vitamin found in citrus and other fruits and vegetables, also sold as a dietary supplement and as a topical 'serum' ingredient to treat melasma and wrinkles on the face.\""
      ]
     },
     "execution_count": 7,
     "metadata": {},
     "output_type": "execute_result"
    }
   ],
   "source": [
    "Vitamins.vitaminC()"
   ]
  },
  {
   "cell_type": "code",
   "execution_count": 8,
   "id": "3aae43b6",
   "metadata": {},
   "outputs": [
    {
     "data": {
      "text/plain": [
       "'Vitamin D is a group of fat-soluble secosteroids responsible for increasing intestinal absorption of calcium, magnesium, and phosphate, and many other biological effects.'"
      ]
     },
     "execution_count": 8,
     "metadata": {},
     "output_type": "execute_result"
    }
   ],
   "source": [
    "Vitamins.vitaminD()"
   ]
  },
  {
   "cell_type": "code",
   "execution_count": 9,
   "id": "6d209013",
   "metadata": {},
   "outputs": [
    {
     "data": {
      "text/plain": [
       "'Vitamin E is a group of eight fat soluble compounds that include four tocopherols and four tocotrienols.'"
      ]
     },
     "execution_count": 9,
     "metadata": {},
     "output_type": "execute_result"
    }
   ],
   "source": [
    "Vitamins.vitaminE()"
   ]
  },
  {
   "cell_type": "code",
   "execution_count": 10,
   "id": "132e2207",
   "metadata": {},
   "outputs": [
    {
     "data": {
      "text/plain": [
       "'Vitamin K is a family of structurally similar, fat-soluble vitamers found in foods and marketed as dietary supplements.'"
      ]
     },
     "execution_count": 10,
     "metadata": {},
     "output_type": "execute_result"
    }
   ],
   "source": [
    "Vitamins.vitaminK()"
   ]
  },
  {
   "cell_type": "code",
   "execution_count": null,
   "id": "93f677b5",
   "metadata": {},
   "outputs": [],
   "source": []
  }
 ],
 "metadata": {
  "kernelspec": {
   "display_name": "Python 3 (ipykernel)",
   "language": "python",
   "name": "python3"
  },
  "language_info": {
   "codemirror_mode": {
    "name": "ipython",
    "version": 3
   },
   "file_extension": ".py",
   "mimetype": "text/x-python",
   "name": "python",
   "nbconvert_exporter": "python",
   "pygments_lexer": "ipython3",
   "version": "3.10.9"
  }
 },
 "nbformat": 4,
 "nbformat_minor": 5
}
